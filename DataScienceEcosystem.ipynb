{
 "cells": [
  {
   "cell_type": "markdown",
   "id": "1b50842a-06fe-47bc-a266-5d08499774db",
   "metadata": {},
   "source": [
    "# Data Science Tools and Ecosystem"
   ]
  },
  {
   "cell_type": "markdown",
   "id": "7cf8de46-6edc-442d-9c72-b2c470cd1661",
   "metadata": {},
   "source": [
    "In this notebook, Data Science Tools and Ecosystem are summarized.\n"
   ]
  },
  {
   "cell_type": "markdown",
   "id": "e7f9097c-d9a5-4e73-913f-d04d134166d9",
   "metadata": {},
   "source": [
    "**Objectives**"
   ]
  },
  {
   "cell_type": "markdown",
   "id": "53ba90dc-ae31-42a0-846c-437dcfe934ad",
   "metadata": {},
   "source": [
    "- Pyhon\n",
    "- R\n",
    "- Scala"
   ]
  },
  {
   "cell_type": "markdown",
   "id": "697f061a-5a1a-4b83-8a33-fef561b2fa56",
   "metadata": {},
   "source": [
    "Some of the popular languages that Data Scientists use are:"
   ]
  },
  {
   "cell_type": "markdown",
   "id": "c443b458-3f1f-438f-a053-0f0e75363905",
   "metadata": {},
   "source": [
    "    1. Python\n",
    "    2. R\n",
    "    3. Scala"
   ]
  },
  {
   "cell_type": "markdown",
   "id": "40a29679-5c5d-4e7a-818c-75c183282028",
   "metadata": {},
   "source": [
    "| Data Science Tools |\n",
    "| -------------------|\n",
    "| RStudio |\n",
    "| Apachi Spark |\n",
    "| Tensorflow |"
   ]
  },
  {
   "cell_type": "markdown",
   "id": "7ca6ba6f-6aae-4a73-8c8e-f75ec830c01c",
   "metadata": {},
   "source": [
    "### Below are a few examples of evaluating arithmetic expressions in Python"
   ]
  },
  {
   "cell_type": "code",
   "execution_count": 6,
   "id": "7f67d8b6-f48e-4b55-a957-740ce6b911f3",
   "metadata": {},
   "outputs": [
    {
     "data": {
      "text/plain": [
       "17"
      ]
     },
     "execution_count": 6,
     "metadata": {},
     "output_type": "execute_result"
    }
   ],
   "source": [
    "#This a simple arithmetic expression to mutiply then add integers\n",
    "(3*4)+5"
   ]
  },
  {
   "cell_type": "code",
   "execution_count": 7,
   "id": "f87ccc23-80ad-4588-89a8-65e789962e44",
   "metadata": {},
   "outputs": [
    {
     "data": {
      "text/plain": [
       "3.3333333333333335"
      ]
     },
     "execution_count": 7,
     "metadata": {},
     "output_type": "execute_result"
    }
   ],
   "source": [
    "#This will convert 200 minutes to hours by diving by 60\n",
    "200 / 60"
   ]
  },
  {
   "cell_type": "markdown",
   "id": "3499acfd-a31f-4bca-8d48-aa674a09cc0a",
   "metadata": {},
   "source": [
    "## Author\n",
    "Ömer Faruk Önal"
   ]
  }
 ],
 "metadata": {
  "kernelspec": {
   "display_name": "Python 3 (ipykernel)",
   "language": "python",
   "name": "python3"
  },
  "language_info": {
   "codemirror_mode": {
    "name": "ipython",
    "version": 3
   },
   "file_extension": ".py",
   "mimetype": "text/x-python",
   "name": "python",
   "nbconvert_exporter": "python",
   "pygments_lexer": "ipython3",
   "version": "3.11.4"
  }
 },
 "nbformat": 4,
 "nbformat_minor": 5
}
